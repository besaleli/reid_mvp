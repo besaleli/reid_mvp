{
 "cells": [
  {
   "cell_type": "code",
   "execution_count": 138,
   "id": "7ea2e869",
   "metadata": {},
   "outputs": [
    {
     "data": {
      "text/plain": [
       "┌──────────────────────────────────────┬──────────────────────────────────────┬───────────────────────┬────────────┬──────────────────┬──────────┬───────────┬──────────────┐\n",
       "│                  id                  │               video_id               │ intravideo_cluster_id │ cluster_id │ confidence_score │ is_match │ threshold │  created_at  │\n",
       "│                 uuid                 │                 uuid                 │         int32         │   int32    │      float       │ boolean  │   float   │    float     │\n",
       "├──────────────────────────────────────┼──────────────────────────────────────┼───────────────────────┼────────────┼──────────────────┼──────────┼───────────┼──────────────┤\n",
       "│ b27dd3c4-ad31-4640-a6c1-4ca8f2258a4b │ 2645977e-c87f-4a99-9200-7c69e3bf9fc0 │                     0 │          0 │              1.0 │ true     │       0.9 │ 1748611200.0 │\n",
       "│ 8ff7d600-75cc-446f-aab0-5296a536cbfb │ 2645977e-c87f-4a99-9200-7c69e3bf9fc0 │                     1 │          1 │              1.0 │ true     │       0.9 │ 1748611200.0 │\n",
       "│ 9bff4eb1-79a9-4451-9242-7bdc6bbe06ae │ b4ce8b0b-04e6-47d5-aa2a-2cbc70b67daa │                     0 │          1 │              1.0 │ true     │       0.9 │ 1748611200.0 │\n",
       "│ 936b2ff1-744c-45a0-be8b-b2a765ea06f9 │ b4ce8b0b-04e6-47d5-aa2a-2cbc70b67daa │                     1 │          0 │              1.0 │ true     │       0.9 │ 1748611200.0 │\n",
       "└──────────────────────────────────────┴──────────────────────────────────────┴───────────────────────┴────────────┴──────────────────┴──────────┴───────────┴──────────────┘"
      ]
     },
     "execution_count": 138,
     "metadata": {},
     "output_type": "execute_result"
    }
   ],
   "source": [
    "import duckdb\n",
    "\n",
    "db = duckdb.connect(\"data/data.db\")\n",
    "db.sql(\"select * from latest_global_object_ids\")"
   ]
  },
  {
   "cell_type": "code",
   "execution_count": 139,
   "id": "6672299f",
   "metadata": {},
   "outputs": [],
   "source": [
    "db.close()"
   ]
  },
  {
   "cell_type": "code",
   "execution_count": 115,
   "id": "182feac7",
   "metadata": {},
   "outputs": [
    {
     "data": {
      "text/html": [
       "<div>\n",
       "<style scoped>\n",
       "    .dataframe tbody tr th:only-of-type {\n",
       "        vertical-align: middle;\n",
       "    }\n",
       "\n",
       "    .dataframe tbody tr th {\n",
       "        vertical-align: top;\n",
       "    }\n",
       "\n",
       "    .dataframe thead th {\n",
       "        text-align: right;\n",
       "    }\n",
       "</style>\n",
       "<table border=\"1\" class=\"dataframe\">\n",
       "  <thead>\n",
       "    <tr style=\"text-align: right;\">\n",
       "      <th></th>\n",
       "      <th>video_id</th>\n",
       "      <th>video_name</th>\n",
       "      <th>uploaded_at</th>\n",
       "      <th>osnet_embedding</th>\n",
       "      <th>intravideo_cluster_id</th>\n",
       "    </tr>\n",
       "  </thead>\n",
       "  <tbody>\n",
       "    <tr>\n",
       "      <th>0</th>\n",
       "      <td>b4ce8b0b-04e6-47d5-aa2a-2cbc70b67daa</td>\n",
       "      <td>video_2</td>\n",
       "      <td>1.748605e+09</td>\n",
       "      <td>[0.0720047, 0.13304754, 0.0, 0.0, 0.0, 0.02950...</td>\n",
       "      <td>1</td>\n",
       "    </tr>\n",
       "    <tr>\n",
       "      <th>1</th>\n",
       "      <td>b4ce8b0b-04e6-47d5-aa2a-2cbc70b67daa</td>\n",
       "      <td>video_2</td>\n",
       "      <td>1.748605e+09</td>\n",
       "      <td>[0.053059917, 0.122785814, 0.0, 0.0, 0.1649334...</td>\n",
       "      <td>1</td>\n",
       "    </tr>\n",
       "    <tr>\n",
       "      <th>2</th>\n",
       "      <td>b4ce8b0b-04e6-47d5-aa2a-2cbc70b67daa</td>\n",
       "      <td>video_2</td>\n",
       "      <td>1.748605e+09</td>\n",
       "      <td>[0.025426066, 0.08218063, 0.0, 0.0, 0.14551479...</td>\n",
       "      <td>1</td>\n",
       "    </tr>\n",
       "    <tr>\n",
       "      <th>3</th>\n",
       "      <td>b4ce8b0b-04e6-47d5-aa2a-2cbc70b67daa</td>\n",
       "      <td>video_2</td>\n",
       "      <td>1.748605e+09</td>\n",
       "      <td>[0.06980731, 0.09048571, 0.0, 0.0, 0.0529797, ...</td>\n",
       "      <td>1</td>\n",
       "    </tr>\n",
       "    <tr>\n",
       "      <th>4</th>\n",
       "      <td>b4ce8b0b-04e6-47d5-aa2a-2cbc70b67daa</td>\n",
       "      <td>video_2</td>\n",
       "      <td>1.748605e+09</td>\n",
       "      <td>[0.05251395, 0.055216823, 0.0, 0.0, 0.05586876...</td>\n",
       "      <td>1</td>\n",
       "    </tr>\n",
       "  </tbody>\n",
       "</table>\n",
       "</div>"
      ],
      "text/plain": [
       "                               video_id video_name   uploaded_at  \\\n",
       "0  b4ce8b0b-04e6-47d5-aa2a-2cbc70b67daa    video_2  1.748605e+09   \n",
       "1  b4ce8b0b-04e6-47d5-aa2a-2cbc70b67daa    video_2  1.748605e+09   \n",
       "2  b4ce8b0b-04e6-47d5-aa2a-2cbc70b67daa    video_2  1.748605e+09   \n",
       "3  b4ce8b0b-04e6-47d5-aa2a-2cbc70b67daa    video_2  1.748605e+09   \n",
       "4  b4ce8b0b-04e6-47d5-aa2a-2cbc70b67daa    video_2  1.748605e+09   \n",
       "\n",
       "                                     osnet_embedding  intravideo_cluster_id  \n",
       "0  [0.0720047, 0.13304754, 0.0, 0.0, 0.0, 0.02950...                      1  \n",
       "1  [0.053059917, 0.122785814, 0.0, 0.0, 0.1649334...                      1  \n",
       "2  [0.025426066, 0.08218063, 0.0, 0.0, 0.14551479...                      1  \n",
       "3  [0.06980731, 0.09048571, 0.0, 0.0, 0.0529797, ...                      1  \n",
       "4  [0.05251395, 0.055216823, 0.0, 0.0, 0.05586876...                      1  "
      ]
     },
     "execution_count": 115,
     "metadata": {},
     "output_type": "execute_result"
    }
   ],
   "source": [
    "QUERY = \"\"\"\n",
    "-- doing a stratified sample across video_id and cluster_id\n",
    "-- databases aren't really great for complex stratified sampling like this\n",
    "-- so we're just going to do every 10th record. we can think about\n",
    "-- more complex sampling techniques and efficient implementations once\n",
    "-- we identify exactly what the limitations of this are (there really may not be any)\n",
    "with numbered as (\n",
    "    select\n",
    "        v.id as video_id,\n",
    "        v.filepath,\n",
    "        v.uploaded_at,\n",
    "        d.osnet_embedding,\n",
    "        ioi.cluster_id as intravideo_cluster_id,\n",
    "        row_number() over (\n",
    "            partition by v.id, ioi.cluster_id\n",
    "            order by f.id -- or d.id, whatever is consistent\n",
    "        ) as rn\n",
    "    from video v\n",
    "    left join frame f on v.id = f.video_id\n",
    "    left join detection d on f.id = d.frame_id\n",
    "    left join intravideo_object_ids ioi on d.id = ioi.detection_id\n",
    "    where\n",
    "        not (f.is_irregular or ioi.is_bad_frame)\n",
    ")\n",
    "select\n",
    "    video_id,\n",
    "    regexp_extract(filepath, '(video_[0-9])', 1) as video_name,\n",
    "    uploaded_at,\n",
    "    osnet_embedding,\n",
    "    intravideo_cluster_id\n",
    "from numbered\n",
    "where rn % 5 = 1 -- every 5th record; adjust as needed\n",
    "\n",
    "\"\"\"\n",
    "\n",
    "df = conn.sql(QUERY).df()\n",
    "df.head()"
   ]
  },
  {
   "cell_type": "code",
   "execution_count": null,
   "id": "9d5d9a1b",
   "metadata": {},
   "outputs": [],
   "source": [
    "from typing import Optional\n",
    "import time\n",
    "from pydantic import BaseModel, ConfigDict, Field\n",
    "import duckdb\n",
    "import pandas as pd\n",
    "from sklearn.decomposition import PCA\n",
    "from sklearn.cluster import SpectralClustering\n",
    "\n",
    "class CrossVideoReID(BaseModel):\n",
    "    \"\"\"Cross-video ReID.\"\"\"\n",
    "    model_config = ConfigDict(arbitrary_types_allowed=True)\n",
    "\n",
    "    conn: duckdb.DuckDBPyConnection\n",
    "    threshold: float = 0.9\n",
    "    created_at: float = Field(default_factory=time.time)\n",
    "    df: Optional[pd.DataFrame] = None\n",
    "    \n",
    "    def compute_crossvideo_reids(self) -> 'CrossVideoReID':\n",
    "        \"\"\"Compute cross-video reIDs\"\"\"\n",
    "        df = self.conn.query(QUERY).df()\n",
    "        \n",
    "        # compute pca50\n",
    "        pca_50 = PCA(n_components=50).fit_transform(df['osnet_embedding'].to_list())\n",
    "\n",
    "        df['pred_cluster'] = SpectralClustering(n_clusters=2).fit_predict(pca_50)\n",
    "        \n",
    "        matches = []\n",
    "        gt_groups = df.groupby(['video_id', 'intravideo_cluster_id'])\n",
    "        \n",
    "        for (vid, pid), group in gt_groups:\n",
    "            gt_indices = set(group.index)\n",
    "            best_score = 0\n",
    "            best_cluster = None\n",
    "\n",
    "            for cluster_id in df['pred_cluster'].unique():\n",
    "                pred_indices = set(df[df['pred_cluster'] == cluster_id].index)\n",
    "                intersection = gt_indices & pred_indices\n",
    "                inclusion_score = len(intersection) / len(gt_indices)\n",
    "\n",
    "                if inclusion_score > best_score:\n",
    "                    best_score = inclusion_score\n",
    "                    best_cluster = cluster_id\n",
    "\n",
    "            matches.append({\n",
    "                'video_id': vid,\n",
    "                'intravideo_cluster_id': pid,\n",
    "                'matched_cluster': best_cluster,\n",
    "                'confidence_score': best_score,\n",
    "                'is_match': best_score > self.threshold,\n",
    "                'threshold': self.threshold\n",
    "            })\n",
    "            \n",
    "        self.df = pd.DataFrame(matches)\n",
    "        \n",
    "        return self\n",
    "        "
   ]
  },
  {
   "cell_type": "code",
   "execution_count": null,
   "id": "31353753",
   "metadata": {},
   "outputs": [],
   "source": [
    "conn.close()"
   ]
  },
  {
   "cell_type": "code",
   "execution_count": 134,
   "id": "790879d3",
   "metadata": {},
   "outputs": [
    {
     "name": "stdout",
     "output_type": "stream",
     "text": [
      "                               video_id  intravideo_cluster_id  \\\n",
      "0  2645977e-c87f-4a99-9200-7c69e3bf9fc0                      0   \n",
      "1  2645977e-c87f-4a99-9200-7c69e3bf9fc0                      1   \n",
      "2  b4ce8b0b-04e6-47d5-aa2a-2cbc70b67daa                      0   \n",
      "3  b4ce8b0b-04e6-47d5-aa2a-2cbc70b67daa                      1   \n",
      "\n",
      "   matched_cluster  confidence_score  is_match  \n",
      "0                1               1.0      True  \n",
      "1                0               1.0      True  \n",
      "2                0               1.0      True  \n",
      "3                1               1.0      True  \n"
     ]
    },
    {
     "name": "stderr",
     "output_type": "stream",
     "text": [
      "/Users/besaleli/reid_mvp/.venv/lib/python3.12/site-packages/sklearn/utils/extmath.py:335: RuntimeWarning:\n",
      "\n",
      "divide by zero encountered in matmul\n",
      "\n",
      "/Users/besaleli/reid_mvp/.venv/lib/python3.12/site-packages/sklearn/utils/extmath.py:335: RuntimeWarning:\n",
      "\n",
      "overflow encountered in matmul\n",
      "\n",
      "/Users/besaleli/reid_mvp/.venv/lib/python3.12/site-packages/sklearn/utils/extmath.py:335: RuntimeWarning:\n",
      "\n",
      "invalid value encountered in matmul\n",
      "\n",
      "/Users/besaleli/reid_mvp/.venv/lib/python3.12/site-packages/sklearn/utils/extmath.py:336: RuntimeWarning:\n",
      "\n",
      "divide by zero encountered in matmul\n",
      "\n",
      "/Users/besaleli/reid_mvp/.venv/lib/python3.12/site-packages/sklearn/utils/extmath.py:336: RuntimeWarning:\n",
      "\n",
      "overflow encountered in matmul\n",
      "\n",
      "/Users/besaleli/reid_mvp/.venv/lib/python3.12/site-packages/sklearn/utils/extmath.py:336: RuntimeWarning:\n",
      "\n",
      "invalid value encountered in matmul\n",
      "\n",
      "/Users/besaleli/reid_mvp/.venv/lib/python3.12/site-packages/sklearn/utils/extmath.py:340: RuntimeWarning:\n",
      "\n",
      "divide by zero encountered in matmul\n",
      "\n",
      "/Users/besaleli/reid_mvp/.venv/lib/python3.12/site-packages/sklearn/utils/extmath.py:340: RuntimeWarning:\n",
      "\n",
      "overflow encountered in matmul\n",
      "\n",
      "/Users/besaleli/reid_mvp/.venv/lib/python3.12/site-packages/sklearn/utils/extmath.py:340: RuntimeWarning:\n",
      "\n",
      "invalid value encountered in matmul\n",
      "\n",
      "/Users/besaleli/reid_mvp/.venv/lib/python3.12/site-packages/sklearn/utils/extmath.py:533: RuntimeWarning:\n",
      "\n",
      "divide by zero encountered in matmul\n",
      "\n",
      "/Users/besaleli/reid_mvp/.venv/lib/python3.12/site-packages/sklearn/utils/extmath.py:533: RuntimeWarning:\n",
      "\n",
      "overflow encountered in matmul\n",
      "\n",
      "/Users/besaleli/reid_mvp/.venv/lib/python3.12/site-packages/sklearn/utils/extmath.py:533: RuntimeWarning:\n",
      "\n",
      "invalid value encountered in matmul\n",
      "\n",
      "/Users/besaleli/reid_mvp/.venv/lib/python3.12/site-packages/sklearn/utils/extmath.py:547: RuntimeWarning:\n",
      "\n",
      "divide by zero encountered in matmul\n",
      "\n",
      "/Users/besaleli/reid_mvp/.venv/lib/python3.12/site-packages/sklearn/utils/extmath.py:547: RuntimeWarning:\n",
      "\n",
      "overflow encountered in matmul\n",
      "\n",
      "/Users/besaleli/reid_mvp/.venv/lib/python3.12/site-packages/sklearn/utils/extmath.py:547: RuntimeWarning:\n",
      "\n",
      "invalid value encountered in matmul\n",
      "\n",
      "/Users/besaleli/reid_mvp/.venv/lib/python3.12/site-packages/sklearn/utils/extmath.py:203: RuntimeWarning:\n",
      "\n",
      "divide by zero encountered in matmul\n",
      "\n",
      "/Users/besaleli/reid_mvp/.venv/lib/python3.12/site-packages/sklearn/utils/extmath.py:203: RuntimeWarning:\n",
      "\n",
      "overflow encountered in matmul\n",
      "\n",
      "/Users/besaleli/reid_mvp/.venv/lib/python3.12/site-packages/sklearn/utils/extmath.py:203: RuntimeWarning:\n",
      "\n",
      "invalid value encountered in matmul\n",
      "\n",
      "/Users/besaleli/reid_mvp/.venv/lib/python3.12/site-packages/sklearn/utils/extmath.py:203: RuntimeWarning:\n",
      "\n",
      "divide by zero encountered in matmul\n",
      "\n",
      "/Users/besaleli/reid_mvp/.venv/lib/python3.12/site-packages/sklearn/utils/extmath.py:203: RuntimeWarning:\n",
      "\n",
      "overflow encountered in matmul\n",
      "\n",
      "/Users/besaleli/reid_mvp/.venv/lib/python3.12/site-packages/sklearn/utils/extmath.py:203: RuntimeWarning:\n",
      "\n",
      "invalid value encountered in matmul\n",
      "\n",
      "/Users/besaleli/reid_mvp/.venv/lib/python3.12/site-packages/sklearn/cluster/_kmeans.py:237: RuntimeWarning:\n",
      "\n",
      "divide by zero encountered in matmul\n",
      "\n",
      "/Users/besaleli/reid_mvp/.venv/lib/python3.12/site-packages/sklearn/cluster/_kmeans.py:237: RuntimeWarning:\n",
      "\n",
      "overflow encountered in matmul\n",
      "\n",
      "/Users/besaleli/reid_mvp/.venv/lib/python3.12/site-packages/sklearn/cluster/_kmeans.py:237: RuntimeWarning:\n",
      "\n",
      "invalid value encountered in matmul\n",
      "\n"
     ]
    }
   ],
   "source": [
    "CrossVideoReID(conn=db).compute_crossvideo_reids()"
   ]
  },
  {
   "cell_type": "code",
   "execution_count": 84,
   "id": "2d1cc6bb",
   "metadata": {},
   "outputs": [
    {
     "name": "stderr",
     "output_type": "stream",
     "text": [
      "/Users/besaleli/reid_mvp/.venv/lib/python3.12/site-packages/sklearn/utils/extmath.py:335: RuntimeWarning:\n",
      "\n",
      "divide by zero encountered in matmul\n",
      "\n",
      "/Users/besaleli/reid_mvp/.venv/lib/python3.12/site-packages/sklearn/utils/extmath.py:335: RuntimeWarning:\n",
      "\n",
      "overflow encountered in matmul\n",
      "\n",
      "/Users/besaleli/reid_mvp/.venv/lib/python3.12/site-packages/sklearn/utils/extmath.py:335: RuntimeWarning:\n",
      "\n",
      "invalid value encountered in matmul\n",
      "\n",
      "/Users/besaleli/reid_mvp/.venv/lib/python3.12/site-packages/sklearn/utils/extmath.py:336: RuntimeWarning:\n",
      "\n",
      "divide by zero encountered in matmul\n",
      "\n",
      "/Users/besaleli/reid_mvp/.venv/lib/python3.12/site-packages/sklearn/utils/extmath.py:336: RuntimeWarning:\n",
      "\n",
      "overflow encountered in matmul\n",
      "\n",
      "/Users/besaleli/reid_mvp/.venv/lib/python3.12/site-packages/sklearn/utils/extmath.py:336: RuntimeWarning:\n",
      "\n",
      "invalid value encountered in matmul\n",
      "\n",
      "/Users/besaleli/reid_mvp/.venv/lib/python3.12/site-packages/sklearn/utils/extmath.py:340: RuntimeWarning:\n",
      "\n",
      "divide by zero encountered in matmul\n",
      "\n",
      "/Users/besaleli/reid_mvp/.venv/lib/python3.12/site-packages/sklearn/utils/extmath.py:340: RuntimeWarning:\n",
      "\n",
      "overflow encountered in matmul\n",
      "\n",
      "/Users/besaleli/reid_mvp/.venv/lib/python3.12/site-packages/sklearn/utils/extmath.py:340: RuntimeWarning:\n",
      "\n",
      "invalid value encountered in matmul\n",
      "\n",
      "/Users/besaleli/reid_mvp/.venv/lib/python3.12/site-packages/sklearn/utils/extmath.py:533: RuntimeWarning:\n",
      "\n",
      "divide by zero encountered in matmul\n",
      "\n",
      "/Users/besaleli/reid_mvp/.venv/lib/python3.12/site-packages/sklearn/utils/extmath.py:533: RuntimeWarning:\n",
      "\n",
      "overflow encountered in matmul\n",
      "\n",
      "/Users/besaleli/reid_mvp/.venv/lib/python3.12/site-packages/sklearn/utils/extmath.py:533: RuntimeWarning:\n",
      "\n",
      "invalid value encountered in matmul\n",
      "\n",
      "/Users/besaleli/reid_mvp/.venv/lib/python3.12/site-packages/sklearn/utils/extmath.py:547: RuntimeWarning:\n",
      "\n",
      "divide by zero encountered in matmul\n",
      "\n",
      "/Users/besaleli/reid_mvp/.venv/lib/python3.12/site-packages/sklearn/utils/extmath.py:547: RuntimeWarning:\n",
      "\n",
      "overflow encountered in matmul\n",
      "\n",
      "/Users/besaleli/reid_mvp/.venv/lib/python3.12/site-packages/sklearn/utils/extmath.py:547: RuntimeWarning:\n",
      "\n",
      "invalid value encountered in matmul\n",
      "\n",
      "/Users/besaleli/reid_mvp/.venv/lib/python3.12/site-packages/sklearn/utils/extmath.py:335: RuntimeWarning:\n",
      "\n",
      "divide by zero encountered in matmul\n",
      "\n",
      "/Users/besaleli/reid_mvp/.venv/lib/python3.12/site-packages/sklearn/utils/extmath.py:335: RuntimeWarning:\n",
      "\n",
      "overflow encountered in matmul\n",
      "\n",
      "/Users/besaleli/reid_mvp/.venv/lib/python3.12/site-packages/sklearn/utils/extmath.py:335: RuntimeWarning:\n",
      "\n",
      "invalid value encountered in matmul\n",
      "\n",
      "/Users/besaleli/reid_mvp/.venv/lib/python3.12/site-packages/sklearn/utils/extmath.py:336: RuntimeWarning:\n",
      "\n",
      "divide by zero encountered in matmul\n",
      "\n",
      "/Users/besaleli/reid_mvp/.venv/lib/python3.12/site-packages/sklearn/utils/extmath.py:336: RuntimeWarning:\n",
      "\n",
      "overflow encountered in matmul\n",
      "\n",
      "/Users/besaleli/reid_mvp/.venv/lib/python3.12/site-packages/sklearn/utils/extmath.py:336: RuntimeWarning:\n",
      "\n",
      "invalid value encountered in matmul\n",
      "\n",
      "/Users/besaleli/reid_mvp/.venv/lib/python3.12/site-packages/sklearn/utils/extmath.py:340: RuntimeWarning:\n",
      "\n",
      "divide by zero encountered in matmul\n",
      "\n",
      "/Users/besaleli/reid_mvp/.venv/lib/python3.12/site-packages/sklearn/utils/extmath.py:340: RuntimeWarning:\n",
      "\n",
      "overflow encountered in matmul\n",
      "\n",
      "/Users/besaleli/reid_mvp/.venv/lib/python3.12/site-packages/sklearn/utils/extmath.py:340: RuntimeWarning:\n",
      "\n",
      "invalid value encountered in matmul\n",
      "\n",
      "/Users/besaleli/reid_mvp/.venv/lib/python3.12/site-packages/sklearn/utils/extmath.py:533: RuntimeWarning:\n",
      "\n",
      "divide by zero encountered in matmul\n",
      "\n",
      "/Users/besaleli/reid_mvp/.venv/lib/python3.12/site-packages/sklearn/utils/extmath.py:533: RuntimeWarning:\n",
      "\n",
      "overflow encountered in matmul\n",
      "\n",
      "/Users/besaleli/reid_mvp/.venv/lib/python3.12/site-packages/sklearn/utils/extmath.py:533: RuntimeWarning:\n",
      "\n",
      "invalid value encountered in matmul\n",
      "\n",
      "/Users/besaleli/reid_mvp/.venv/lib/python3.12/site-packages/sklearn/utils/extmath.py:547: RuntimeWarning:\n",
      "\n",
      "divide by zero encountered in matmul\n",
      "\n",
      "/Users/besaleli/reid_mvp/.venv/lib/python3.12/site-packages/sklearn/utils/extmath.py:547: RuntimeWarning:\n",
      "\n",
      "overflow encountered in matmul\n",
      "\n",
      "/Users/besaleli/reid_mvp/.venv/lib/python3.12/site-packages/sklearn/utils/extmath.py:547: RuntimeWarning:\n",
      "\n",
      "invalid value encountered in matmul\n",
      "\n"
     ]
    }
   ],
   "source": [
    "from sklearn.decomposition import PCA\n",
    "from sklearn.manifold import TSNE\n",
    "\n",
    "pca_50 = PCA(n_components=50).fit_transform(df['osnet_embedding'].to_list())\n",
    "df['x_tsne'], df['y_tsne'] = zip(*TSNE(n_components=2).fit_transform(pca_50))"
   ]
  },
  {
   "cell_type": "code",
   "execution_count": 85,
   "id": "063ad504",
   "metadata": {},
   "outputs": [
    {
     "data": {
      "application/vnd.plotly.v1+json": {
       "config": {
        "plotlyServerURL": "https://plot.ly"
       },
       "data": [
        {
         "hovertemplate": "video_intravideo_id=video_2_person_1<br>x_tsne=%{x}<br>y_tsne=%{y}<extra></extra>",
         "legendgroup": "video_2_person_1",
         "marker": {
          "color": "#636efa",
          "symbol": "circle"
         },
         "mode": "markers",
         "name": "video_2_person_1",
         "showlegend": true,
         "type": "scattergl",
         "x": {
          "bdata": "uPRMwkedWcICKUTChQFFwupUjMKiQ0nCUjZFwt2aP8LE9krCA8NLwtQfRcLIBE3CdV9AwlG0J8KJHzbC96UkwplWPsLY+iTCo088wr1hJsKx/DXCBdRBwoD3U8JxgizCn91IwrX/EcIoKzrCkUErwgVzEsKW2yTCGLpKwsHjU8INmz7CKYx8wusRU8I9B03C3D0+wq44hcJw9EfCkzA7wj+dhMLJKj/C8xslwvmQQ8LoI0LC8rkrwpfzPcJzviXC9942wvIMKMI4GijCr7FJwrBvPcLuXDXCiAtNwv2jOsLR0SnCT248wvi9L8INtS7CnCxRwpTxR8ILY1XC+7U+wpD8Q8KXSEnCrkMmwnniScKeUFLCuI07wp31VsJmiifC6VhDwnplV8IJSz7ClOJHwpNcMMJbADPCnEMuwh0dTsLj7inC4V04wmKLWsINdI3CYWZFwikiM8Jz5YTCQzY1wuPcKcLam0LC+3dMwi84LMK22DPCC64swjmEP8K3SzLCVjRAwjRKRcJTwwrCuK0+wjNvKsLqeTrCcFpFwv2QJ8JFVwzCefEkwhB9QML5WTbCQqdbwkyWJ8KaxCrC7chawongKMKXdDbCgJIpwmUtN8KXszfC76hZwqcPQsKlo1LCWlVDwg3KTsKyU0PCiVcmwvXbJ8LwgSTCCoNCwoBEhMIC00HC5So5wn2NSMLrXUjC3CANwnBNQsKq10PCutdMwoQVKMI9bzzCWWAkwtpYJcKzKETCjOBLwvQpTcLgEkHCuRZNwhEkW8IJnTPCbeqHwhJ2KcKnrljCsm8+wj/hPsIWG1HCX4lGwuzUQcL+bTjCzx5FwmtQjsLMBinCIeswwoUxJcKPTSjCcOmIwkS4KsIGAVvCeO8mwnxzjMJ38CbCdadPwidlKsLblFDC3pSIwrg8ScIrTEDC8WAwwi5CQ8LoEDzCvO1ZwgB7SsITICXCOZ1DwkweUcKieybC+UlawnTmL8KnoD7CG2RWwodtLsKiHEHCgE0pwpyqWcJFEjjCP2tAwqNyNcL19j/C2eA0wvKXOMJGES/CMx1GwmAeRcJpx43CqXg6wt4eMMLcVY7Cdw0qwhuXK8LNtynCm5Qwwlk2RMJRSETCzXY9wlkaDcKzUy7CeD1WwpNFPMKhl0PCg8ItwsohLsILt1bCZHYvwnQ+jcKlOirCjTJZwmWHiMIBx0rCV8U3wgvNSsI+nkzCn286wkUkUcIJPzrC2k1DwiqPRMKzJUTCuqBfwv8VQ8LkzkTC4IFFwn8VKMI5VUDC5liNwtcgQcIP8STCFcEKwry6QcKMUzXCJSyAwqNBDMLoYF7CuBc4wt+cOsLJAyfCjBlCwnMdWsKIiDLCzO2KwhoVO8KDnUrCZs1DwuYMK8JDkD/CAx9EwlkKL8LPqQrCNqo/wsB3MsJpTkPCAgBCwk8TScL6MVjC+t4swghNicKNnibC3NYtwkkITcJ7aDLCZAUnwkd9NcLfPQ3CLigpwoEMTcJWHUbCK5MvwtrYM8IHkTLCjnExwlOSMMINt4rCZAM2wt5+MsIUvDvCpA4+wsVqisJf90LCBwMNwlxeP8KqoCbCshVAwplfgMLF4EfCjBFEwj2FSMLbbS/CiwA6wognC8LjO0DCizNbwrlvJsLM4S3CMZJZwtR1jMI=",
          "dtype": "f4"
         },
         "xaxis": "x",
         "y": {
          "bdata": "nxXXQRxFGcEHhZXBoulFQJbeqL9NXoZApudGQSI7RUFjMijBFnhHQbn1YUGHOzXBzUjFP7Z8U0DIsitAzq+4wT5JvkFNy5xBWl9YQBLX8kHFXSZB7FKcwbdBqUFOBsHBX3h0PhkPxkEN4RTAz9jtQW9ixkFQValBOO/dQFn1McFWTYc/6VluvwvwqkEybgtBLxGDwXY6IsC9r8pBm8LCQVObWMBOeS5BjnO4weeVxcFQMGNB1oCowTMFx0G9mu1BjXuWwW+8jEGr9sZBg4ivwWfcvUGVtCRBh7CEQIOM/kBk/8hB+XvAQVRjscG7oafBaLgPQK9frMGoegfBhWN+weZYwkF16ZfBdfFlQC0LSkD3oKxBtMvqQMA/OsHoEKnBPTPZQRFUA8F0MMdBFbYewXnrgcHpVRRAYfR6P9ZpR8HwAuBBSMcAvjWxq0H2yca/vYdPQdGcMT8DNyzAymOvwarA9UH6EMPBFcCEQPjbn8FUP5E+FKieQWa1v8Ht76DBh/Gfv3QFpsE6jb5Bm018P5RC7kFso8i/1VehwVp/8UFBq+k/SXSqQaPPMcFvIcHBdcdFwZ2/vcFN0GG972GpQWJvP0C5pKzBOYeswUumcz/fP6rB4rqkQQCBvUHQ4a1Bfw64wX/BJMG/5sBBRcO0QQNS50GeRYtBAnuZwZILLcBIa71B3oyxwV5bH0HWJ0lBjLkjQFOZnb6yJd5B/Q80wYtBpEFRMt1BgCeLQTyGmkGeYx9B7+xJQb5d10GJg9I/ZDbXQa4eqkFBikY/Rz8kwAQjqr//HUjBX5JeQEu+kz8zhhlAtdfYP+VXZkGPoJfB1JQfQZGMI8C0YctBGqLkQZqwpEHKe/RByZOkv5GVnkHltTjBIYSOQbxcrb/ufqFBM/c5wQl16UGmDuPA+efZv5o+l8Ho8PTALdOBwXFtn8GQksRBTp2kQUGDNEFgjq1BFp3WQYNwC0BPBcTBvS0+wbxb40HuwFlAwH8iwcAthj9GUqTAN0bgQdHNJ8HYOq3BuqwxwUrdI0HvNHm/fz4kQfnXwMEgIL3B92lIQXXppsGuuDjAJb4HQaTslcGwqA7A44zkQX3Y10Ed3qS/CezrQWMrNEEPvttAHe0DQI21LkAkCfZBMnkjwfWgesGyx9dBzzHtQZ3ZgT994ijBPB6nwR0HBsAtBOBBGrmkQUV9479FNlxA90aWwaa0WEBO73JARvPBwaybGUD7PNY/q+bYQTSeSEFT5GBBkSsywSLKIUFif5TBkiCfP54310FJBO3A1GvIv8ZXk79nq6VBQyy+QRjnncEQXyVBlb2fwKB3HUCcuA7BzVmswYEOA0HpCepBiN4+QaXw+MAuwKvBAju7P6bbwkGGyqzBUgP1QDqhQr9MI8LBoYHEQVnT8kGL7r1BIeJPQd84oUCtDr5BFu49QdANIUG+UqRB2IXdQYCwqL9sDMTB10jZQXbQCUHuVKFAVxiowfMCLkB6btQ/tonKQZNTNsFt9DtAuknuQfz3gMH5P+8/npz7v82ct8FLpybADay5waLmAkDfk+pAbxEuQYvjJcBJgghBhJXaP87xGL+4bI5BFr2DwQeEnMDcXsxB6zThQUF+CUBOUqzBQqeLv1yCFUD32ezAzxCpQUF4ZECqrO5Boh4mwT+hJ8A=",
          "dtype": "f4"
         },
         "yaxis": "y"
        },
        {
         "hovertemplate": "video_intravideo_id=video_2_person_0<br>x_tsne=%{x}<br>y_tsne=%{y}<extra></extra>",
         "legendgroup": "video_2_person_0",
         "marker": {
          "color": "#EF553B",
          "symbol": "circle"
         },
         "mode": "markers",
         "name": "video_2_person_0",
         "showlegend": true,
         "type": "scattergl",
         "x": {
          "bdata": "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",
          "dtype": "f4"
         },
         "xaxis": "x",
         "y": {
          "bdata": "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",
          "dtype": "f4"
         },
         "yaxis": "y"
        },
        {
         "hovertemplate": "video_intravideo_id=video_1_person_1<br>x_tsne=%{x}<br>y_tsne=%{y}<extra></extra>",
         "legendgroup": "video_1_person_1",
         "marker": {
          "color": "#00cc96",
          "symbol": "circle"
         },
         "mode": "markers",
         "name": "video_1_person_1",
         "showlegend": true,
         "type": "scattergl",
         "x": {
          "bdata": "AhICQi1J90CJVttBcHcBQtDLKUJNekZClO/cQYPlosCVMBLBdaJ5Qe3hJUJZaChCXR+EQc5X3EFeHDNBLRhuQQ2SO8HLcTVBCI6VQIXaCkIZQzVCnsobQoIQ60HaVUFCTDqQwLHpOkK5tbVBhaIcQulJxUGtUVRCN2vHwAs2n8ElKcZB30IwQWpma0AiEFxC9bxLwWGcg7/7YgpCPGUVwTabPUIMRVxB9h48QogxcEFTnCxCQuXpQVDK2EE8p2RBTDg0QYdNB0Ko5uNByDubwFTPAkIlJuxBGAr7QfrlK0IKWvlA/6m2we5ePEIZ9eNAPLIPQsGcFULEXeNB6OdUQq7sj0FmovlB/S8PQmoe7kGjryxBAVNhQJ8ZKUJ2l+BB0sJYQu14GELee0dC+76iwDP+o0C5IQtC59+VwIRbJ0JhN5JBZMY1Qhf/yEC13irBFT6Uwaxtn8HaBxpCta4bQjVkvUFqtyfBfiqFQavpMUEZSN8/n3Y3QrzCPUKaHyfBq6cqQnaVRkJ5/47AvyGswUOOVEKDch1Cq0M8QhvbTEL9bOJA2wZPQo6RK0JKWcC/Pfz4v5LHM0KU6vE/nWu4wWAcUELuIAHA8KTaQSO7NELt+YbAhIXkQdD040GXCLfBxhk7QnQu+EBIT0LBhbcxQo1WJkLjvhlCb+wyQpjSHEJ8HDdCxVlQQmBQOUKKawJCijy5wDRQWELbfuFBD+nbQdA1PUK88bLBSPKyQArPGkG8BUhBJTs4QZ0w90Hb89hBZ3wsQgyIAkIWY5FBcof4v0V3wMHfT0PBnlx6QQQxF0LjFJ5Bp/X0QQzeVEJ5MCLBwxwyQqpfPEKzVgVCnf1WQV1FS0L3ftVB2YKZQP1lHEG93xJCRnloQXDQEkEYtihCT23YQeHQEMHRwddA4Vs1QajgXcEV6VRCp+kmwVnMpMH+5xlBf9zTP7KmMEExo0FCguDoQcyTC8Fh7UVCeUsFQj47+UDu8ixCmPYHQKr6b0ExDglC8LWRQfPwL0J9hSRCkUiiQWrHLUFLiJnA+gICQtgy10FOlXZBdT2kwUL0zEG6n5XAXU2QwMTpD0L9DZFB0Vp1QRg5XcHe0TXByaSFwdq810ErHT9BAuM4QtLIcEHoYCfBxxidQfmFk8CYlStCW+gYQnYdB0ItHKfALuVZwTg0HUJeospBTmhGwXfRRULo3U1CBYc8QuqU4UHmQSdCWCEUQrXwnsDqIGvB0yc7wcM7JUJGtVpC/XQnQrAkdkF5DBHBBNkQwS97pkAQI8ZB8JrcQa2F5EELMwZCFUowQsWl1D8JBDhCx6PGQJPN2UFsdlZCbKPgQe08EsBnkDZCMkPaQZJG/UGd9vdB78H3QYvfGkKlG+lBP3bRwJJqAkLyCgNB/ai3QUEULsExzJFBs/frQfct3EHpyKBBNfGAQTpaOUIdbjTBQD3yQY3gU0EvTwPAw+TWQVTGJ0JdcJ1A7ZfrQaHAD0IXxfNAg3AmwS48GcFuDIzARSYSQhPCq0B3LY9Bf7pYQtHbTEIPe2TBulvkQQiPHEI0yPlBJRtJQm4NMkBcefY/AAZ7QXpPFsAED8DAwKv6QbyzWEJzm6xAc5hOwIbKZ0HfjQ9CtoyOwNowMEHSA01Co8YcQpcDwUHVaFNBSxhEwMG+tUEfHTPBrNMrQmp6w0GmCjhBKtiIwZTX3kBp5u1AU3lQQrrg2kHV3WpBA1SMwEApxL9RwyZCeuytwKEgZsCndzFCpfnVQfFDHcEP8blAA0dJQtHKuEB2rnFA9F24wMAVDEI19LvBZVcBQtf7AEGjmtdBJLrmQeCfrcEu2ZTAXEFfwaRjwEGYzddBHS/qQVFWb0D6vAhBZEjaQA01GULmGeBBOug8wGvEGEI4oi7B330+QgrZ8kFIZjFCEs4ZQgY4HcHBRUXBqgyoQKNBu0DtsVlCrMc0QdjNAEIl+WhBj9OmwapioUBu/I/A0OMMQiKGGEJmSzRC51xPQuDUq0AzFrXAVAgLQh24NcHBs/RBIPmUwHRjEUJQoJFBfnPsQZ8i40GwYfm/txptQXNvCkK8OjpBfHk3QoqSNkGPizfBtkhHwNeil0FXqdhB1Oc/QkZOREIvR5HAQOE0Qa4+KkKjRnpBI7l+wUZZPkIYYr/AmcA5Qig7cUER/pBBIooIQl6IN0I4BblA+XDxQc4aPEIQ4oTBPqzkQYpwasGZiDBCmsRuwcuzWEGRm9lBlSwQwfPQUULpDjRCGfBxQLjukMCb3fBB0mJSQrxLQD8GG3JBePYvQotPTELW/t7AkUxNQhBcF0IQxqnAWlcDwZLaOULcuR1AeCc7QWq9r8EcQj5C4RELwXM+vUHh6VpCOdAmQtBhkMDuSaTBA9RMQq3cucFUvCJBX02CP7chP0I7eCvBRiApQlw4mECveBdCS5yvwYeOqcFfs8VAerB4QAgtRkI8abnBdg6OwDFf+0EM/T/BcbI+QluyYkGIYU5Bg76LwQelRMCIQ55BxAa2QbF0MEHbVIrBkOyuwaGjv0F27azA05cCQqyUWcH9DSdCwcFZwTMbWEKSrzxCK24xQhAd88BAiWJB2xHXQTpUS0JE4xvB+iwSQuPCVkLqoOFBJ0vYQSylAUKFLsDBlCvIQXxUVkH1n1NCr6ssQhDIwECf6vNBZi5VQWSpOULRwTdCMlcBwU0EVkG/Iw1C0JcYwYQeRULWrNLAiSmOwcWDCUKEdTNC3KgCQvJhM0HnmfNBfS1QwGLVjsHla7LBl6s5QvIv2UBjgptAIQ/hQVtJCsG43bnBxg25wYmsNEITIz8/CGsrQm3+AkJULDJCYFDKQd5lvUFseFxCZmhQQim4T0E9m+pB+ndGQi16WEIlcS1Cq7Y5QkrzGEKFEhrBliH2Qe+IPkKvV51B+2/6QEyxB0LXyttBAUrAwRPHhkAZ6KZBcfE6QTEJD8GLNFJCNWAowJF5O0JeVblA1+44QgV/c0FvA1xCP7yAQRS7EMHzRTRCyuc1QobcPEI5C0bAuE84QlAEmcCNFjlCAWiKv3w8NEHusjZC4/e1wPlglMCkl1PB1KOdwTUCm0Aos1lBSdA1Qm4/PkLFpBpC6loGQg50wUE7Qi1CfuxMQaDG+kCKtTZC9aJSP8cpNkIcZkpCiBlPQefYgEEY4XrAhCKUwT4v8EH8K4g/8zQ2Qqb+G0LDWb1BgeSTwPSh8EFKdTBCSJrnQYYPNr4dPT1BkIo/QSI8kUENloVB3aQnQtWb3EBUMxxCqIu6wZeyQsGQSUZCLWeBwefsPsEHbH7BylbFQahoRUKUkX7BIFTjQRSb1sAfyI3BpLU5QkY9lMHlkXBB4yjev/abRsEKlFpB5shYQuGT+kC8P5hAgkxvwbZNTUEeRUtCyniowPDUS0GiERNCnao8QqR6cUGSmg5AImIzQslxQsGQMklCShUlQhwGIsHYY/9B7aonQkJjUEFVTm3By8qpwfOXY0GQJZ/BvAsuQcO8XELFYAJBHlQFQtAwBkKvb1/B4vo2QqgKLELbDgNCCd0CwdM0j0EOI91BfgI3QXZAJkIo5llCmvTVQeobSUEwKVxCHKMZQso15EFjj6/BHG0NQs8h90AIpVZCkypLQp22AkKrzrLBKmTjQSuwr8GM55BB3nDcwGzGxr/mmipCSR23Qb70KUI7IB1CW3gswV54RUILB3pByMJZwcOJU0JLrQVCCGOTwQ1knEEUkz9Cjv+ywdRrGMGNjoA/WuZGQtO3N0K39uJAU/v3QVauqsBuI4g/hlGsQLSOJ8GSQx3BgDpEQrCeScHqxxFBxZE3Qmz8b0G9KPVBlSwUweU2WEIvI2FBCntJQmnQRkK3vwZC5RVzQPx8nkEVuE5CEXSUwFSx90F5cZDAcrccwSmXv0FhhChCd1xNQvUAQkKXXSpCBQoXQi19q8AqPE1CyNZQQeTTPEKyzrRARVlowa7Hl0FN2CVC9K9rwc+yOUJ76JNBAyMmQav2SEIcwMNBAsu8vxLkM0IOh0BA8Hf0QeLy1kFotQjBaJRdQe86BcDE3ZHBfI2WQI9dQELeYIbBUI00QuREPUIR+RVCEz8DQhkG+0G/NCtCnOA+Pyy03cCaYQ1CYGukwarKJULPtzZCJc8qQu8Mez8vOhBCVMsZwZDrPEJZn1RCWhuvwfFJ60GfSp3Bm8UzQqgO+0F7QUZCzoQQQuRr5EGV3Q9Cxaf3QaXbTUI4R+JBudV0QZ6BTEGSMfFAAr8+vVnWRUJMuzlCRrjcQS+kwkGKRaxAxlo9QcObjsBCLcnATCeLwdT4lUDrMYM/1Q3cQZxoa8Eam5PAvIupPyL08r/ci1BCVeqLwA+a0sDgka/BdabeQQ==",
          "dtype": "f4"
         },
         "xaxis": "x",
         "y": {
          "bdata": "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",
          "dtype": "f4"
         },
         "yaxis": "y"
        },
        {
         "hovertemplate": "video_intravideo_id=video_1_person_0<br>x_tsne=%{x}<br>y_tsne=%{y}<extra></extra>",
         "legendgroup": "video_1_person_0",
         "marker": {
          "color": "#ab63fa",
          "symbol": "circle"
         },
         "mode": "markers",
         "name": "video_1_person_0",
         "showlegend": true,
         "type": "scattergl",
         "x": {
          "bdata": "FwY1wm33TcKlrzTCiNc1wks2KcKCyYXC8wVIwuQuS8Jx0jXC3jVPwvSZjsIq8lzCP+QwwrpKQ8L/b13CrLZEwk4CMMIc+ArCp3RWwk/Ij8Jrf4bCspaOwntiEMLdqkDC/ppJwmHYkMLVL17CeVKMwhgNNcKmzoXCNrk/wgb0RcJHOEXCF2pOwowRNMLq+kTCMVEQwpD8C8K/LUjC309BwlBZWMLPNUHCFwoqwiSeTML7uQ3CPCVMwluYSsLOmiTC9WKMwuTQhsI3pYPC0WI3wiSzOcJfgD/CfzNDwuZpRcI8uIXCqxpTwvFfS8LrmRDC98cKwuCPKsJFciTCW8RAwm0tJcLGXwvC7VVSwtC2hsICp0DC0I81wlKDNcLPGj7Cur8Pwt69g8IjGj3C1Gc5wplbgcJeAIfCbtmNwpLAhcIRSgvCpe8+whjBFMK4DFLCD2APwtSCkMJeY0DCaSkpwn7HNMK7QkrCXqIMwpepDcI+u0DCk6EQwgIdPcL7QZHCCxRGwui/XMKELzLC8IFEwicUPsIF2zXCjFCDwupESMKyzz/CealKwkVlkcIq8z7CvqeQwqY1P8JWZwvCzDIkwprSU8ILESjCuCAvwrUdS8JC8oDChwOEwhFVEMKxnSfCDBeMwhspgcLyTzzCwBhbwp0qM8Jlni3CAd2Kwk/TQ8J1bkDCQtSDwnG7WcKO9S/Crm0wwj2GU8IAiTDCDqwQwoHzjsLYOjTCjiyEwqxXg8J5dzTCSpBAwtuCjMJ6sAvCWcuQwh25P8I3NjbC",
          "dtype": "f4"
         },
         "xaxis": "x",
         "y": {
          "bdata": "FZrzQRR9u8EXOeq/tJRwQY1XiUEB1NE/EDU6QeCDo8HYpe9B4OMMwdFAHb9icgLB4FzGv/yCeMCoABfBsWTzv3wqusFq4tdB4PxFwW/gBMCWDQG/He3QvgdK4kGg/5TAMUAqQZqt4L6HEQPBir2cPg019EE4drY/eS+qwQMnjcHmjDpBop0EwW9g50G2fYW/f4zaQaD+3EE0pzZBPaNQQdqvDsE/Dw/BiRyDQWfxtsF+JERAo+lcQQeBssFXH4dBrNFoPbQSuz/M6Za+fRKAwR8P2b78EYfAHG2DwESTtsHWILY/ewo5wW6qWEEurt9BQJjWQUD8wsGoxcU+fkQMwfDeh0El5dtBpDUwQUbz/b6pGRTBZEhxQZ0zgMFBPUhBZ53XQSMDPb6XY8XBvxXoPoybJcC1nbk/MkSwvrZCYT9cf9ZBzoJZQR9l1kHPEDVBN7DTQdQ2C7+aI7nB0FHFwdOd00HHs6TBKFnRQTky3UHvQZnBcU/fQUSFIUFI7EC/AgK2wY8vGcFTBf2/4fzuv9HhJUF1D3FBebzqv0UMs8H5Oq3B5xS+weY9Rr951FhBQs66vwIkucG9HvU/mPbSPh4xR8F644VBG3+WwW40u8FMsSjAzMjgP4Lf30HqhoVB+vIHPyiAisAlY5fBUIUgwc5Z50FupMDBuVyZP/V517+mfBzArkYhwIccB8FxLGC/0+uxwbmNDMFl4pXBjxrbQUo2Kz4a1vJBayDXv2qx3b+an9JB8J0GwWsLlj4m/thB+ucGv5WqqsE9n29B",
          "dtype": "f4"
         },
         "yaxis": "y"
        }
       ],
       "layout": {
        "legend": {
         "title": {
          "text": "video_intravideo_id"
         },
         "tracegroupgap": 0
        },
        "template": {
         "data": {
          "bar": [
           {
            "error_x": {
             "color": "#2a3f5f"
            },
            "error_y": {
             "color": "#2a3f5f"
            },
            "marker": {
             "line": {
              "color": "#E5ECF6",
              "width": 0.5
             },
             "pattern": {
              "fillmode": "overlay",
              "size": 10,
              "solidity": 0.2
             }
            },
            "type": "bar"
           }
          ],
          "barpolar": [
           {
            "marker": {
             "line": {
              "color": "#E5ECF6",
              "width": 0.5
             },
             "pattern": {
              "fillmode": "overlay",
              "size": 10,
              "solidity": 0.2
             }
            },
            "type": "barpolar"
           }
          ],
          "carpet": [
           {
            "aaxis": {
             "endlinecolor": "#2a3f5f",
             "gridcolor": "white",
             "linecolor": "white",
             "minorgridcolor": "white",
             "startlinecolor": "#2a3f5f"
            },
            "baxis": {
             "endlinecolor": "#2a3f5f",
             "gridcolor": "white",
             "linecolor": "white",
             "minorgridcolor": "white",
             "startlinecolor": "#2a3f5f"
            },
            "type": "carpet"
           }
          ],
          "choropleth": [
           {
            "colorbar": {
             "outlinewidth": 0,
             "ticks": ""
            },
            "type": "choropleth"
           }
          ],
          "contour": [
           {
            "colorbar": {
             "outlinewidth": 0,
             "ticks": ""
            },
            "colorscale": [
             [
              0,
              "#0d0887"
             ],
             [
              0.1111111111111111,
              "#46039f"
             ],
             [
              0.2222222222222222,
              "#7201a8"
             ],
             [
              0.3333333333333333,
              "#9c179e"
             ],
             [
              0.4444444444444444,
              "#bd3786"
             ],
             [
              0.5555555555555556,
              "#d8576b"
             ],
             [
              0.6666666666666666,
              "#ed7953"
             ],
             [
              0.7777777777777778,
              "#fb9f3a"
             ],
             [
              0.8888888888888888,
              "#fdca26"
             ],
             [
              1,
              "#f0f921"
             ]
            ],
            "type": "contour"
           }
          ],
          "contourcarpet": [
           {
            "colorbar": {
             "outlinewidth": 0,
             "ticks": ""
            },
            "type": "contourcarpet"
           }
          ],
          "heatmap": [
           {
            "colorbar": {
             "outlinewidth": 0,
             "ticks": ""
            },
            "colorscale": [
             [
              0,
              "#0d0887"
             ],
             [
              0.1111111111111111,
              "#46039f"
             ],
             [
              0.2222222222222222,
              "#7201a8"
             ],
             [
              0.3333333333333333,
              "#9c179e"
             ],
             [
              0.4444444444444444,
              "#bd3786"
             ],
             [
              0.5555555555555556,
              "#d8576b"
             ],
             [
              0.6666666666666666,
              "#ed7953"
             ],
             [
              0.7777777777777778,
              "#fb9f3a"
             ],
             [
              0.8888888888888888,
              "#fdca26"
             ],
             [
              1,
              "#f0f921"
             ]
            ],
            "type": "heatmap"
           }
          ],
          "histogram": [
           {
            "marker": {
             "pattern": {
              "fillmode": "overlay",
              "size": 10,
              "solidity": 0.2
             }
            },
            "type": "histogram"
           }
          ],
          "histogram2d": [
           {
            "colorbar": {
             "outlinewidth": 0,
             "ticks": ""
            },
            "colorscale": [
             [
              0,
              "#0d0887"
             ],
             [
              0.1111111111111111,
              "#46039f"
             ],
             [
              0.2222222222222222,
              "#7201a8"
             ],
             [
              0.3333333333333333,
              "#9c179e"
             ],
             [
              0.4444444444444444,
              "#bd3786"
             ],
             [
              0.5555555555555556,
              "#d8576b"
             ],
             [
              0.6666666666666666,
              "#ed7953"
             ],
             [
              0.7777777777777778,
              "#fb9f3a"
             ],
             [
              0.8888888888888888,
              "#fdca26"
             ],
             [
              1,
              "#f0f921"
             ]
            ],
            "type": "histogram2d"
           }
          ],
          "histogram2dcontour": [
           {
            "colorbar": {
             "outlinewidth": 0,
             "ticks": ""
            },
            "colorscale": [
             [
              0,
              "#0d0887"
             ],
             [
              0.1111111111111111,
              "#46039f"
             ],
             [
              0.2222222222222222,
              "#7201a8"
             ],
             [
              0.3333333333333333,
              "#9c179e"
             ],
             [
              0.4444444444444444,
              "#bd3786"
             ],
             [
              0.5555555555555556,
              "#d8576b"
             ],
             [
              0.6666666666666666,
              "#ed7953"
             ],
             [
              0.7777777777777778,
              "#fb9f3a"
             ],
             [
              0.8888888888888888,
              "#fdca26"
             ],
             [
              1,
              "#f0f921"
             ]
            ],
            "type": "histogram2dcontour"
           }
          ],
          "mesh3d": [
           {
            "colorbar": {
             "outlinewidth": 0,
             "ticks": ""
            },
            "type": "mesh3d"
           }
          ],
          "parcoords": [
           {
            "line": {
             "colorbar": {
              "outlinewidth": 0,
              "ticks": ""
             }
            },
            "type": "parcoords"
           }
          ],
          "pie": [
           {
            "automargin": true,
            "type": "pie"
           }
          ],
          "scatter": [
           {
            "fillpattern": {
             "fillmode": "overlay",
             "size": 10,
             "solidity": 0.2
            },
            "type": "scatter"
           }
          ],
          "scatter3d": [
           {
            "line": {
             "colorbar": {
              "outlinewidth": 0,
              "ticks": ""
             }
            },
            "marker": {
             "colorbar": {
              "outlinewidth": 0,
              "ticks": ""
             }
            },
            "type": "scatter3d"
           }
          ],
          "scattercarpet": [
           {
            "marker": {
             "colorbar": {
              "outlinewidth": 0,
              "ticks": ""
             }
            },
            "type": "scattercarpet"
           }
          ],
          "scattergeo": [
           {
            "marker": {
             "colorbar": {
              "outlinewidth": 0,
              "ticks": ""
             }
            },
            "type": "scattergeo"
           }
          ],
          "scattergl": [
           {
            "marker": {
             "colorbar": {
              "outlinewidth": 0,
              "ticks": ""
             }
            },
            "type": "scattergl"
           }
          ],
          "scattermap": [
           {
            "marker": {
             "colorbar": {
              "outlinewidth": 0,
              "ticks": ""
             }
            },
            "type": "scattermap"
           }
          ],
          "scattermapbox": [
           {
            "marker": {
             "colorbar": {
              "outlinewidth": 0,
              "ticks": ""
             }
            },
            "type": "scattermapbox"
           }
          ],
          "scatterpolar": [
           {
            "marker": {
             "colorbar": {
              "outlinewidth": 0,
              "ticks": ""
             }
            },
            "type": "scatterpolar"
           }
          ],
          "scatterpolargl": [
           {
            "marker": {
             "colorbar": {
              "outlinewidth": 0,
              "ticks": ""
             }
            },
            "type": "scatterpolargl"
           }
          ],
          "scatterternary": [
           {
            "marker": {
             "colorbar": {
              "outlinewidth": 0,
              "ticks": ""
             }
            },
            "type": "scatterternary"
           }
          ],
          "surface": [
           {
            "colorbar": {
             "outlinewidth": 0,
             "ticks": ""
            },
            "colorscale": [
             [
              0,
              "#0d0887"
             ],
             [
              0.1111111111111111,
              "#46039f"
             ],
             [
              0.2222222222222222,
              "#7201a8"
             ],
             [
              0.3333333333333333,
              "#9c179e"
             ],
             [
              0.4444444444444444,
              "#bd3786"
             ],
             [
              0.5555555555555556,
              "#d8576b"
             ],
             [
              0.6666666666666666,
              "#ed7953"
             ],
             [
              0.7777777777777778,
              "#fb9f3a"
             ],
             [
              0.8888888888888888,
              "#fdca26"
             ],
             [
              1,
              "#f0f921"
             ]
            ],
            "type": "surface"
           }
          ],
          "table": [
           {
            "cells": {
             "fill": {
              "color": "#EBF0F8"
             },
             "line": {
              "color": "white"
             }
            },
            "header": {
             "fill": {
              "color": "#C8D4E3"
             },
             "line": {
              "color": "white"
             }
            },
            "type": "table"
           }
          ]
         },
         "layout": {
          "annotationdefaults": {
           "arrowcolor": "#2a3f5f",
           "arrowhead": 0,
           "arrowwidth": 1
          },
          "autotypenumbers": "strict",
          "coloraxis": {
           "colorbar": {
            "outlinewidth": 0,
            "ticks": ""
           }
          },
          "colorscale": {
           "diverging": [
            [
             0,
             "#8e0152"
            ],
            [
             0.1,
             "#c51b7d"
            ],
            [
             0.2,
             "#de77ae"
            ],
            [
             0.3,
             "#f1b6da"
            ],
            [
             0.4,
             "#fde0ef"
            ],
            [
             0.5,
             "#f7f7f7"
            ],
            [
             0.6,
             "#e6f5d0"
            ],
            [
             0.7,
             "#b8e186"
            ],
            [
             0.8,
             "#7fbc41"
            ],
            [
             0.9,
             "#4d9221"
            ],
            [
             1,
             "#276419"
            ]
           ],
           "sequential": [
            [
             0,
             "#0d0887"
            ],
            [
             0.1111111111111111,
             "#46039f"
            ],
            [
             0.2222222222222222,
             "#7201a8"
            ],
            [
             0.3333333333333333,
             "#9c179e"
            ],
            [
             0.4444444444444444,
             "#bd3786"
            ],
            [
             0.5555555555555556,
             "#d8576b"
            ],
            [
             0.6666666666666666,
             "#ed7953"
            ],
            [
             0.7777777777777778,
             "#fb9f3a"
            ],
            [
             0.8888888888888888,
             "#fdca26"
            ],
            [
             1,
             "#f0f921"
            ]
           ],
           "sequentialminus": [
            [
             0,
             "#0d0887"
            ],
            [
             0.1111111111111111,
             "#46039f"
            ],
            [
             0.2222222222222222,
             "#7201a8"
            ],
            [
             0.3333333333333333,
             "#9c179e"
            ],
            [
             0.4444444444444444,
             "#bd3786"
            ],
            [
             0.5555555555555556,
             "#d8576b"
            ],
            [
             0.6666666666666666,
             "#ed7953"
            ],
            [
             0.7777777777777778,
             "#fb9f3a"
            ],
            [
             0.8888888888888888,
             "#fdca26"
            ],
            [
             1,
             "#f0f921"
            ]
           ]
          },
          "colorway": [
           "#636efa",
           "#EF553B",
           "#00cc96",
           "#ab63fa",
           "#FFA15A",
           "#19d3f3",
           "#FF6692",
           "#B6E880",
           "#FF97FF",
           "#FECB52"
          ],
          "font": {
           "color": "#2a3f5f"
          },
          "geo": {
           "bgcolor": "white",
           "lakecolor": "white",
           "landcolor": "#E5ECF6",
           "showlakes": true,
           "showland": true,
           "subunitcolor": "white"
          },
          "hoverlabel": {
           "align": "left"
          },
          "hovermode": "closest",
          "mapbox": {
           "style": "light"
          },
          "paper_bgcolor": "white",
          "plot_bgcolor": "#E5ECF6",
          "polar": {
           "angularaxis": {
            "gridcolor": "white",
            "linecolor": "white",
            "ticks": ""
           },
           "bgcolor": "#E5ECF6",
           "radialaxis": {
            "gridcolor": "white",
            "linecolor": "white",
            "ticks": ""
           }
          },
          "scene": {
           "xaxis": {
            "backgroundcolor": "#E5ECF6",
            "gridcolor": "white",
            "gridwidth": 2,
            "linecolor": "white",
            "showbackground": true,
            "ticks": "",
            "zerolinecolor": "white"
           },
           "yaxis": {
            "backgroundcolor": "#E5ECF6",
            "gridcolor": "white",
            "gridwidth": 2,
            "linecolor": "white",
            "showbackground": true,
            "ticks": "",
            "zerolinecolor": "white"
           },
           "zaxis": {
            "backgroundcolor": "#E5ECF6",
            "gridcolor": "white",
            "gridwidth": 2,
            "linecolor": "white",
            "showbackground": true,
            "ticks": "",
            "zerolinecolor": "white"
           }
          },
          "shapedefaults": {
           "line": {
            "color": "#2a3f5f"
           }
          },
          "ternary": {
           "aaxis": {
            "gridcolor": "white",
            "linecolor": "white",
            "ticks": ""
           },
           "baxis": {
            "gridcolor": "white",
            "linecolor": "white",
            "ticks": ""
           },
           "bgcolor": "#E5ECF6",
           "caxis": {
            "gridcolor": "white",
            "linecolor": "white",
            "ticks": ""
           }
          },
          "title": {
           "x": 0.05
          },
          "xaxis": {
           "automargin": true,
           "gridcolor": "white",
           "linecolor": "white",
           "ticks": "",
           "title": {
            "standoff": 15
           },
           "zerolinecolor": "white",
           "zerolinewidth": 2
          },
          "yaxis": {
           "automargin": true,
           "gridcolor": "white",
           "linecolor": "white",
           "ticks": "",
           "title": {
            "standoff": 15
           },
           "zerolinecolor": "white",
           "zerolinewidth": 2
          }
         }
        },
        "title": {
         "text": "Cross-video OSNet Embeddings (t-SNE)"
        },
        "xaxis": {
         "anchor": "y",
         "domain": [
          0,
          1
         ],
         "title": {
          "text": "x_tsne"
         }
        },
        "yaxis": {
         "anchor": "x",
         "domain": [
          0,
          1
         ],
         "title": {
          "text": "y_tsne"
         }
        }
       }
      }
     },
     "metadata": {},
     "output_type": "display_data"
    }
   ],
   "source": [
    "import plotly.express as px\n",
    "\n",
    "df['video_intravideo_id'] = df['video_name'] + '_person_' + df['intravideo_cluster_id'].astype(str)\n",
    "\n",
    "px.scatter(\n",
    "    df,\n",
    "    'x_tsne',\n",
    "    'y_tsne',\n",
    "    color='video_intravideo_id',\n",
    "    title=\"Cross-video OSNet Embeddings (t-SNE)\"\n",
    "    )"
   ]
  }
 ],
 "metadata": {
  "kernelspec": {
   "display_name": ".venv",
   "language": "python",
   "name": "python3"
  },
  "language_info": {
   "codemirror_mode": {
    "name": "ipython",
    "version": 3
   },
   "file_extension": ".py",
   "mimetype": "text/x-python",
   "name": "python",
   "nbconvert_exporter": "python",
   "pygments_lexer": "ipython3",
   "version": "3.12.10"
  }
 },
 "nbformat": 4,
 "nbformat_minor": 5
}
